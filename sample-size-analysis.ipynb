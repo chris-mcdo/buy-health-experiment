{
 "cells": [
  {
   "cell_type": "raw",
   "metadata": {},
   "source": [
    "title: Sample Size Analysis for \"Buy Health\" Experiment\n",
    "author: Christopher McDonald\n",
    "date: \"{{ datetime.now().strftime('%Y-%m-%d') }}\"\n",
    "output:\n",
    "    html:\n",
    "        theme: readable\n",
    "        code_folding: show"
   ]
  },
  {
   "cell_type": "markdown",
   "metadata": {},
   "source": [
    "# Introduction\n",
    "\n",
    "Consider a standard RCT, with the following treatment and control groups:\n",
    "\n",
    "* The treatment group is assigned to the medical plan described [here](https://www.overcomingbias.com/2007/10/buy-health-not.html), where your \"health provider\" (1) can veto any treatment you want them to pay for, and (2) gets paid each year based on an evaluation of your quality of life.\n",
    "\n",
    "* The control group is assigned to a standard medical plan, e.g. medicaid.\n",
    "\n",
    "Assume there are $n / 2$ individuals in each group, so $n$ individuals in total.\n",
    "\n",
    "The aim here is to determine the sample size $n$ required to gain a >80% probability of observing a statistically significant ($p < 0.05$) effect of the treatment.\n",
    "\n",
    "I estimate the required sample size below.\n",
    "\n",
    "First, I describe the basic model of the experiment I will use to make the sample size estimate.\n",
    "Then, I estimate the \"parameters\" of this model - in other words, the effect size.\n",
    "Last, I use the model and the parameters I came up with to estimate the required sample size."
   ]
  },
  {
   "cell_type": "markdown",
   "metadata": {},
   "source": [
    "# Assumptions\n",
    "\n",
    "For now, let's make the following simplifying assumptions:\n",
    "\n",
    "* Study participants all have the same baseline distribution of mortality over time, ignoring any treatments. In other words, they have the same baseline hazard function $h(t)$ over the study period (where $t = 0$ at the study start).\n",
    "\n",
    "* The treatment helps / hurts individuals by multiplying their baseline hazard function $h(t)$ by a constant factor $r$.\n",
    "\n",
    "For outcome data, we use two variables:\n",
    "$$\n",
    "D_i =\n",
    "    \\begin{cases}\n",
    "        1 \\quad \\text{if individual $i$ dies during the study} \\\\\n",
    "        0 \\quad \\text{otherwise} \n",
    "    \\end{cases}\n",
    "$$\n",
    "and\n",
    "$T_i$, a continuous variable representing the time at which the subject died.\n",
    "(If $D_i = 0$, then we set $T_i = k$ where $k$ is the length of the study, i.e. the \"censoring\" time.)\n",
    "\n",
    "We need to estimate two key quantities in order to determine the required sample size. These are:\n",
    "\n",
    "* $p$, the probability that a given subject dies during the study.\n",
    "\n",
    "* $r$, the hazard ratio between the two groups.\n",
    "\n",
    "I try to estimate these in the next section."
   ]
  },
  {
   "cell_type": "markdown",
   "metadata": {},
   "source": [
    "# Parameter Estimates"
   ]
  },
  {
   "cell_type": "markdown",
   "metadata": {},
   "source": [
    "## Mortality Probability $p$\n",
    "\n",
    "According to Wikipedia, the hazard function $h(t)$ of human mortality is well-described as the sum of an exponentially increasing age-dependent component (i.e. \"ageing\"), and a constant age-dependent component (i.e. \"random accidents\").\n",
    "In other words,\n",
    "$$\n",
    "h(t) = ae^{bt} + c\n",
    "$$\n",
    "for constants $a$, $b$ and $c$.\n",
    "\n",
    "This is known as the [Gompertz-Makeham Law of Mortality](https://en.wikipedia.org/wiki/Gompertz%E2%80%93Makeham_law_of_mortality).\n",
    "\n",
    "If we neglect the constant term $c$, then the probability of mortality for an individual with initial age $v$ over $k$ years is\n",
    "$$\n",
    "\\begin{split}\n",
    "p   & = 1 - \\exp\\left(-\\int_0^k h(t) dt\\right) \\\\\n",
    "    & = 1 - \\exp\\left(-\\frac{a_v}{b}(e^{bk} - 1)\\right)\n",
    "\\end{split}\n",
    "$$\n",
    "where $a_v = a e^{bv}$ is the individual's initial hazard $h(0)$.\n",
    "\n",
    "This paper provides many estimates of the parameters $a$ and $b$: [Models for estimating empirical Gompertz mortality: With an application to evolution of the Gompertzian slope](https://u.demog.berkeley.edu/~andrew/papers/tai_noymer_authorfinal.pdf)."
   ]
  },
  {
   "cell_type": "markdown",
   "metadata": {},
   "source": [
    "## Hazard Ratio $r$\n",
    "\n",
    "This paper gives some indication of what hazard ratio we are likely to observe: [Mortality Effects of Healthcare Supply Shocks: Evidence Using Linked Deaths and Electronic Health Records](https://www.nber.org/papers/w30553).\n",
    "\n",
    "Here's a brief summary:\n",
    "\n",
    "* The study used the \"natural experiment\" of the first Covid lockdown (in March 2020) to estimate how mortality changes when individuals are induced to consume less medicine.\n",
    "\n",
    "* As in a normal RCT, they compare two groups: individuals who had outpatient appointments scheduled for just before and just after the start of the lockdown in March 2020.\n",
    "\n",
    "* The \"treatment\" individuals experienced was an increased chance of having their appointment canceled as a result of the lockdown.\n",
    "\n",
    "* They estimate that individuals in the treatment group had a ~5% higher mortality rate over the 12 months after their appointment (3-7% is their approximate 95% CI).\n",
    "\n",
    "* Using the cancellation rate of appointments, they estimate that \"compliers\" - people who would've gone to their appointment if not for the lockdown - had a mortality rate that was around 80% higher over the 12 months after their appointment (50% - 110% is their approximate 95% CI).\n",
    "\n",
    "* The complier group tended to be older and have more comorbidities, relative to the whole sample.\n",
    "(The authors speculate that doctors were more likely to cancel appointments for patients who they thought were at risk from covid.)\n",
    "\n",
    "You might hope that they estimate the causal effect (in terms of a relative mortality risk) of an outpatient appointment \"randomly\" being canceled.\n",
    "Or more precisely, having one outpatient appointment per year randomly canceled.\n",
    "Let's call this number $r_0$.\n",
    "\n",
    "Unfortunately, the relevant estimate they give - the relative mortality rate for compliers - overestimates $r_0$.\n",
    "This is because in the study, compliers are not randomly selected. They tend to be older and have more comorbidities, relative to the sample overall.\n",
    "As a result, they are comparing mortality rates between groups that differ in their age and comorbidity profiles, as well as in whether their appointments were \"randomly\" canceled or not.\n",
    "\n",
    "Since most deaths in both groups are likely concentrated in older individuals with more comorbidites - so these people are the main contributor to the overall (absolute) mortality rate - I'd expect that the bias is not too severe.\n",
    "Here I'll assume that the causal effect on relative mortality of having an outpatient appointment randomly canceled is 1/2 of the reported value, i.e. 40%, i.e. $r_0 = 1.4$.\n",
    "\n",
    "Now we can ask how effective the \"buy health\" intervention is, relative to having an outpatient appointment randomly (not) canceled once per year.\n",
    "For now, I'll consider 3 possible cases: where the \"buy health\" intervention is $f = 1/10, 1/3 \\text{ and } 1.0$ times as effective as having an outpatient appointment randomly (not) canceled once per year.\n",
    "E.g. if $f = 1/3$, and $r_0 = 1.4$, then $1/r = 1 + (1.4 - 1)/3$ or $r = 0.88$.\n",
    "\n",
    "These 3 cases correspond to $r$ values of 0.96, 0.88 and 0.71."
   ]
  },
  {
   "cell_type": "markdown",
   "metadata": {},
   "source": [
    "# Sample Size Estimation"
   ]
  },
  {
   "cell_type": "markdown",
   "metadata": {},
   "source": [
    "## Method\n",
    "\n",
    "To estimate the sample size required to see an effect for the experiment above, we invert the [Logrank test](https://en.wikipedia.org/wiki/Logrank_test).\n",
    "This test is based on the Logrank statistic, which uses both the event times $T_i$ and the indicator variables $D_i$.\n",
    "\n",
    "Given a hazard ratio of $r$ between 2 groups, the expected number of *events* $d$ required for a one-sided test at level $\\alpha$ with power $1 - \\beta$ is approximately\n",
    "$$\n",
    "d = \\frac{4(z_{\\alpha} + z_{\\beta})^2}{(\\log r)^2}\n",
    "$$\n",
    "where $z_{\\alpha}$ is the $\\alpha$th quantile of the standard normal distribution.\n",
    "See [Schoenfeld (1981)](https://www.jstor.org/stable/2335833) for a derivation.\n",
    "\n",
    "The number of *subjects* $n$ required to see an effect is then\n",
    "$$\n",
    "n = \\frac{d}{p}\n",
    "$$\n",
    "where $p$ is the probability that an individual in either group dies during the study.\n",
    "$p$ can be estimated by assuming a Gompertz mortality hazard $h(t)$ as described above.\n",
    "\n",
    "Let's use these numbers for the hazard ratio $r$:\n",
    "* $r_0 = 1.4$: the causal effect (as a relative risk) of having an outpatient appointment randomly canceled once per year.\n",
    "* $f = 1/10, 1/3, 1$: how effective the \"buy health\" plan is (in terms of its proportional hazard, assuming a proportional hazard model), relative to having an outpatient appointment randomly canceled once per year.\n",
    "* $r = 1 / (1 + f(r_0 - 1)) = 0.96, 0.88, 0.71$: the hazard ratio between individuals in the treatment and control groups. E.g. if $r = 0.9$, then individuals in the treatment group have a 10% lower mortality risk than individuals in the control group at any given point in time.\n",
    "\n",
    "And these numbers for mortality probability $p$:\n",
    "* $b = (\\ln 2) / 8 \\approx 0.866$: mortality risk doubles every 8 years. See the paper mentioned in the previous section - also [Wikipedia](https://en.wikipedia.org/wiki/Gompertz%E2%80%93Makeham_law_of_mortality).\n",
    "* $a = 10^{-4}$: mortality risk is around 0.3% per year at age 40, and around 10% per year by age 80 (if mortality risk doubles every 8 years). Estimates for this parameter tend to vary depending on what method you use and what country and time you're looking at (again, see paper above); most estimates are between $10^{-5}$ and $10^{-3}$.\n",
    "* $v = 50$: individuals are 50 years old at the start of the study.\n",
    "* $k = 20$: the study lasts 20 years.\n",
    "\n",
    "Last, consider a test with level $\\alpha = 0.05$ and power $1 - \\beta = 0.8$.\n",
    "\n",
    "Results are shown below."
   ]
  },
  {
   "cell_type": "markdown",
   "metadata": {},
   "source": [
    "## Results"
   ]
  },
  {
   "cell_type": "code",
   "execution_count": 1,
   "metadata": {},
   "outputs": [],
   "source": [
    "# Libraries\n",
    "from scipy.stats import norm\n",
    "import math"
   ]
  },
  {
   "cell_type": "code",
   "execution_count": 2,
   "metadata": {},
   "outputs": [],
   "source": [
    "def compute_required_number_of_events(level, power, r):\n",
    "    return 4 * (norm.ppf(level) + norm.ppf(1 - power)) ** 2 / math.log(r) ** 2"
   ]
  },
  {
   "cell_type": "code",
   "execution_count": 3,
   "metadata": {},
   "outputs": [],
   "source": [
    "def compute_mortality_probability(a, b, v, k, r):\n",
    "    exp = math.exp\n",
    "    a_v = a * exp(b * v)\n",
    "    return 1 - exp(- r * a_v / b * (exp(b * k) - 1))"
   ]
  },
  {
   "cell_type": "code",
   "execution_count": 4,
   "metadata": {},
   "outputs": [],
   "source": [
    "def compute_required_sample_size(d, p):\n",
    "    return d / p"
   ]
  },
  {
   "cell_type": "code",
   "execution_count": 5,
   "metadata": {},
   "outputs": [],
   "source": [
    "def print_results(r, b, a, v, k, level, power):\n",
    "    print(f\"Computing required sample size for r = {round(r, 3)}, a = {a}, b = {round(b, 3)}, v = {v}, k = {k},  level = {level}, power = {power}\")\n",
    "    d = compute_required_number_of_events(level, power, r)\n",
    "    p = 0.5 * compute_mortality_probability(a, b, v, k, r = 1) + 0.5 * compute_mortality_probability(a, b, v, k, r = r)\n",
    "    n = math.ceil(compute_required_sample_size(d, p) / 2) * 2\n",
    "    print(f\"Required sample size: {n} ({int(n/2)} per group)\")"
   ]
  },
  {
   "cell_type": "code",
   "execution_count": 6,
   "metadata": {},
   "outputs": [],
   "source": [
    "# Parameters\n",
    "r0 = 1.4\n",
    "f_list = [1/10, 1/3, 1]\n",
    "r_list = [1 / (1 + f * (r0 - 1)) for f in f_list]\n",
    "b = math.log(2) / 8\n",
    "a = 1e-4\n",
    "v = 50\n",
    "k = 20\n",
    "level = 0.05\n",
    "power = 0.8"
   ]
  },
  {
   "cell_type": "code",
   "execution_count": 7,
   "metadata": {},
   "outputs": [
    {
     "name": "stdout",
     "output_type": "stream",
     "text": [
      "Computing required sample size for r = 0.962, a = 0.0001, b = 0.087, v = 50, k = 20,  level = 0.05, power = 0.8\n",
      "Required sample size: 48650 (24325 per group)\n",
      "Computing required sample size for r = 0.882, a = 0.0001, b = 0.087, v = 50, k = 20,  level = 0.05, power = 0.8\n",
      "Required sample size: 4944 (2472 per group)\n",
      "Computing required sample size for r = 0.714, a = 0.0001, b = 0.087, v = 50, k = 20,  level = 0.05, power = 0.8\n",
      "Required sample size: 742 (371 per group)\n"
     ]
    }
   ],
   "source": [
    "# Compute required sample size\n",
    "for r in r_list:\n",
    "    print_results(r, b, a, v, k, level, power)"
   ]
  },
  {
   "cell_type": "markdown",
   "metadata": {},
   "source": [
    "So under the assumptions above, if the \"buy health\" plan is 1/10 as effective as randomly having an outpatient appointment (not) canceled once per year, the required sample size is $n \\simeq 50,000$. \n",
    "\n",
    "This decreases to $n \\simeq 750$ if you assume the \"buy health\" plan has the same effectiveness as randomly having an outpatient appointment canceled once per year.\n",
    "\n",
    "A few variations on these parameters are tested at the end of this notebook."
   ]
  },
  {
   "cell_type": "markdown",
   "metadata": {},
   "source": [
    "# Observations\n",
    "\n",
    "The required sample size decreases rapidly with age. This reflects the fact that the baseline risk increases exponentially with age, and the level of \"risk-reduction\" is modeled as a fraction of the baseline risk."
   ]
  },
  {
   "cell_type": "markdown",
   "metadata": {},
   "source": [
    "# Limitations and Possible Improvements\n",
    "\n",
    "* More precisely correct for the bias in the \"mortality rate for compliers\".\n",
    "\n",
    "* Use Monte-Carlo simulation with sensible priors over all the parameters to get a better sense of the uncertainty of the estimate.\n",
    "\n",
    "* Perform a similar estimate based on a different \"quality of life\" measure - e.g. self-reported health or physiological variables."
   ]
  },
  {
   "cell_type": "markdown",
   "metadata": {},
   "source": [
    "# More Results"
   ]
  },
  {
   "cell_type": "code",
   "execution_count": 8,
   "metadata": {},
   "outputs": [
    {
     "name": "stdout",
     "output_type": "stream",
     "text": [
      "Computing required sample size for r = 0.962, a = 0.0001, b = 0.087, v = 40, k = 20,  level = 0.05, power = 0.8\n",
      "Required sample size: 103574 (51787 per group)\n",
      "Computing required sample size for r = 0.882, a = 0.0001, b = 0.087, v = 40, k = 20,  level = 0.05, power = 0.8\n",
      "Required sample size: 10566 (5283 per group)\n",
      "Computing required sample size for r = 0.714, a = 0.0001, b = 0.087, v = 40, k = 20,  level = 0.05, power = 0.8\n",
      "Required sample size: 1598 (799 per group)\n"
     ]
    }
   ],
   "source": [
    "# Vary initial age\n",
    "v = 40\n",
    "for r in r_list:\n",
    "    print_results(r, b, a, v, k, level, power)"
   ]
  },
  {
   "cell_type": "code",
   "execution_count": 9,
   "metadata": {},
   "outputs": [
    {
     "name": "stdout",
     "output_type": "stream",
     "text": [
      "Computing required sample size for r = 0.962, a = 0.0001, b = 0.087, v = 60, k = 10,  level = 0.05, power = 0.8\n",
      "Required sample size: 65340 (32670 per group)\n",
      "Computing required sample size for r = 0.882, a = 0.0001, b = 0.087, v = 60, k = 10,  level = 0.05, power = 0.8\n",
      "Required sample size: 6654 (3327 per group)\n",
      "Computing required sample size for r = 0.714, a = 0.0001, b = 0.087, v = 60, k = 10,  level = 0.05, power = 0.8\n",
      "Required sample size: 1002 (501 per group)\n"
     ]
    }
   ],
   "source": [
    "# Vary study length and initial age\n",
    "v = 60\n",
    "k = 10\n",
    "for r in r_list:\n",
    "    print_results(r, b, a, v, k, level, power)"
   ]
  }
 ],
 "metadata": {
  "kernelspec": {
   "display_name": "Python 3.10.6 ('play')",
   "language": "python",
   "name": "python3"
  },
  "language_info": {
   "codemirror_mode": {
    "name": "ipython",
    "version": 3
   },
   "file_extension": ".py",
   "mimetype": "text/x-python",
   "name": "python",
   "nbconvert_exporter": "python",
   "pygments_lexer": "ipython3",
   "version": "3.10.6"
  },
  "orig_nbformat": 4,
  "vscode": {
   "interpreter": {
    "hash": "846296036d3f9acaae05f463716c6a45cb7bb494a1ee6bffa24c9755e1b74688"
   }
  }
 },
 "nbformat": 4,
 "nbformat_minor": 2
}
